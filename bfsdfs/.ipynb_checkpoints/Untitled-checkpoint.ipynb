{
 "cells": [
  {
   "cell_type": "markdown",
   "id": "respected-client",
   "metadata": {},
   "source": [
    "# 백준 1260\n"
   ]
  },
  {
   "cell_type": "code",
   "execution_count": 1,
   "id": "cooked-daisy",
   "metadata": {},
   "outputs": [
    {
     "name": "stdout",
     "output_type": "stream",
     "text": [
      "4 5 1\n",
      "1 2\n",
      "1 3\n",
      "1 4\n",
      "2 4\n",
      "3 4\n"
     ]
    },
    {
     "data": {
      "text/plain": [
       "defaultdict(list, {1: [2, 3, 4], 2: [1, 4], 3: [1, 4], 4: [1, 2, 3]})"
      ]
     },
     "execution_count": 1,
     "metadata": {},
     "output_type": "execute_result"
    }
   ],
   "source": [
    "from collections import defaultdict\n",
    "graph_dict = defaultdict(list)\n",
    "v, e, s = map(int,input().split())\n",
    "for _ in range(e):\n",
    "    src, dst = map(int,input().split())\n",
    "    graph_dict[src].append(dst)\n",
    "    graph_dict[dst].append(src)\n",
    "graph_dict"
   ]
  },
  {
   "cell_type": "code",
   "execution_count": 2,
   "id": "numerical-bachelor",
   "metadata": {},
   "outputs": [],
   "source": [
    "visited = []\n",
    "def dfs(graph, visited, s):\n",
    "    if len(graph) == len(visited):\n",
    "        return visited\n",
    "#     que = [s]\n",
    "    visited.append(s)\n",
    "    for nxt_v in graph[s]:\n",
    "        if nxt_v not in visited:\n",
    "            dfs(graph,visited,nxt_v)\n"
   ]
  },
  {
   "cell_type": "code",
   "execution_count": 4,
   "id": "lasting-oriental",
   "metadata": {},
   "outputs": [
    {
     "name": "stdout",
     "output_type": "stream",
     "text": [
      "[1, 2, 4, 3]\n"
     ]
    }
   ],
   "source": [
    "print(dfs(graph_dict, visited, s))"
   ]
  },
  {
   "cell_type": "code",
   "execution_count": 6,
   "id": "banned-gallery",
   "metadata": {},
   "outputs": [],
   "source": [
    "from collections import deque\n",
    "visited = set()\n",
    "def bfs(graph, s):\n",
    "    seq = []\n",
    "    que = deque()\n",
    "    que.append(s)\n",
    "    seq.append(s)\n",
    "    visited.add(s)\n",
    "    while que:\n",
    "        cur = que.popleft()\n",
    "        for nxt_v in graph[s]:\n",
    "            if nxt_v not in visited:\n",
    "                que.append(nxt_v)\n",
    "                seq.append(nxt_v)\n",
    "    print(seq)\n",
    "    return seq"
   ]
  },
  {
   "cell_type": "code",
   "execution_count": null,
   "id": "recreational-valve",
   "metadata": {},
   "outputs": [],
   "source": []
  },
  {
   "cell_type": "code",
   "execution_count": null,
   "id": "outer-protection",
   "metadata": {},
   "outputs": [],
   "source": []
  }
 ],
 "metadata": {
  "kernelspec": {
   "display_name": "Python 3",
   "language": "python",
   "name": "python3"
  },
  "language_info": {
   "codemirror_mode": {
    "name": "ipython",
    "version": 3
   },
   "file_extension": ".py",
   "mimetype": "text/x-python",
   "name": "python",
   "nbconvert_exporter": "python",
   "pygments_lexer": "ipython3",
   "version": "3.8.5"
  }
 },
 "nbformat": 4,
 "nbformat_minor": 5
}
