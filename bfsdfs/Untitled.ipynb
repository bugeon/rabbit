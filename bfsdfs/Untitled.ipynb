{
 "cells": [
  {
   "cell_type": "markdown",
   "id": "exposed-angel",
   "metadata": {},
   "source": [
    "# 백준 1260\n"
   ]
  },
  {
   "cell_type": "code",
   "execution_count": 1,
   "id": "hundred-morocco",
   "metadata": {},
   "outputs": [
    {
     "name": "stdout",
     "output_type": "stream",
     "text": [
      "4 5 1\n",
      "1 2\n",
      "1 3\n",
      "1 4\n",
      "2 4\n",
      "3 4\n"
     ]
    },
    {
     "data": {
      "text/plain": [
       "defaultdict(list, {1: [2, 3, 4], 2: [1, 4], 3: [1, 4], 4: [1, 2, 3]})"
      ]
     },
     "execution_count": 1,
     "metadata": {},
     "output_type": "execute_result"
    }
   ],
   "source": [
    "from collections import defaultdict\n",
    "graph_dict = defaultdict(list)\n",
    "v, e, s = map(int,input().split())\n",
    "for _ in range(e):\n",
    "    src, dst = map(int,input().split())\n",
    "    graph_dict[src].append(dst)\n",
    "    graph_dict[dst].append(src)\n",
    "graph_dict"
   ]
  },
  {
   "cell_type": "code",
   "execution_count": 2,
   "id": "streaming-stephen",
   "metadata": {},
   "outputs": [],
   "source": [
    "visited = []\n",
    "def dfs(graph, visited, s):\n",
    "    if len(graph) == len(visited):\n",
    "        return visited\n",
    "#     que = [s]\n",
    "    visited.append(s)\n",
    "    for nxt_v in graph[s]:\n",
    "        if nxt_v not in visited:\n",
    "            dfs(graph,visited,nxt_v)\n"
   ]
  },
  {
   "cell_type": "code",
   "execution_count": 4,
   "id": "acute-course",
   "metadata": {},
   "outputs": [
    {
     "name": "stdout",
     "output_type": "stream",
     "text": [
      "[1, 2, 4, 3]\n"
     ]
    }
   ],
   "source": [
    "print(*dfs(graph_dict, visited, s))"
   ]
  },
  {
   "cell_type": "code",
   "execution_count": 24,
   "id": "selective-terrorist",
   "metadata": {},
   "outputs": [],
   "source": [
    "from collections import deque\n",
    "visited = set()\n",
    "def bfs(graph, s):\n",
    "    seq = []\n",
    "    que = deque()\n",
    "    que.append(s)\n",
    "    while que:\n",
    "        cur = que.popleft()\n",
    "        if cur not in visited:\n",
    "            visited.add(cur)\n",
    "            seq.append(cur)\n",
    "            for nxt_v in graph[s]:\n",
    "                que.append(nxt_v)\n",
    "    return seq"
   ]
  },
  {
   "cell_type": "code",
   "execution_count": 25,
   "id": "norwegian-steps",
   "metadata": {},
   "outputs": [
    {
     "name": "stdout",
     "output_type": "stream",
     "text": [
      "[1, 2, 3, 4]\n"
     ]
    },
    {
     "data": {
      "text/plain": [
       "[1, 2, 3, 4]"
      ]
     },
     "execution_count": 25,
     "metadata": {},
     "output_type": "execute_result"
    }
   ],
   "source": [
    "print(*bfs(graph_dict,s))"
   ]
  },
  {
   "cell_type": "code",
   "execution_count": 41,
   "id": "pleasant-means",
   "metadata": {},
   "outputs": [
    {
     "name": "stdout",
     "output_type": "stream",
     "text": [
      "5 5 3\n",
      "5 4\n",
      "5 2\n",
      "1 2\n",
      "3 4\n",
      "3 1\n",
      "[3, 4, 1]\n"
     ]
    }
   ],
   "source": [
    "from collections import defaultdict\n",
    "graph_dict = defaultdict(list)\n",
    "v, e, s = map(int,input().split())\n",
    "for _ in range(e):\n",
    "    src, dst = map(int,input().split())\n",
    "    graph_dict[src].append(dst)\n",
    "    graph_dict[dst].append(src)\n",
    "# graph_dict\n",
    "\n",
    "visited = []\n",
    "def dfs(graph, visited, s):\n",
    "    vis = visited\n",
    "    if len(graph) == len(vis):\n",
    "        print(vis)\n",
    "        return vis\n",
    "#     que = [s]\n",
    "    vis.append(s)\n",
    "    for nxt_v in graph[s]:\n",
    "        if nxt_v not in vis:\n",
    "            dfs(graph,vis,nxt_v)\n",
    "\n",
    "dfs_ans = dfs(graph_dict, visited, s)\n",
    "\n",
    "from collections import deque\n",
    "visit = set()\n",
    "def bfs(graph,visit, s):\n",
    "    seq = []\n",
    "    que = deque()\n",
    "    que.append(s)\n",
    "    while que:\n",
    "        cur = que.popleft()\n",
    "        if cur not in visit:\n",
    "            visit.add(cur)\n",
    "            seq.append(cur)\n",
    "            for nxt_v in graph[s]:\n",
    "                que.append(nxt_v)\n",
    "    print(seq)\n",
    "    return seq\n",
    "\n",
    "bfs_ans = bfs(graph_dict,visit,s)\n",
    "\n",
    "# print(*dfs_ans)\n",
    "# print(*bfs_ans)"
   ]
  },
  {
   "cell_type": "code",
   "execution_count": 42,
   "id": "ecological-address",
   "metadata": {},
   "outputs": [
    {
     "data": {
      "text/plain": [
       "[3, 4, 5, 2, 1]"
      ]
     },
     "execution_count": 42,
     "metadata": {},
     "output_type": "execute_result"
    }
   ],
   "source": [
    "visited"
   ]
  },
  {
   "cell_type": "code",
   "execution_count": null,
   "id": "tested-devon",
   "metadata": {},
   "outputs": [],
   "source": [
    "##### graph_dict"
   ]
  },
  {
   "cell_type": "code",
   "execution_count": 29,
   "id": "recreational-volume",
   "metadata": {},
   "outputs": [
    {
     "data": {
      "text/plain": [
       "[3, 4, 5, 2, 1]"
      ]
     },
     "execution_count": 29,
     "metadata": {},
     "output_type": "execute_result"
    }
   ],
   "source": [
    "dfs(graph_dict, visited, s)"
   ]
  },
  {
   "cell_type": "code",
   "execution_count": 33,
   "id": "loving-clearing",
   "metadata": {},
   "outputs": [
    {
     "data": {
      "text/plain": [
       "[]"
      ]
     },
     "execution_count": 33,
     "metadata": {},
     "output_type": "execute_result"
    }
   ],
   "source": [
    "bfs(graph_dict,s)"
   ]
  },
  {
   "cell_type": "code",
   "execution_count": 34,
   "id": "impaired-departure",
   "metadata": {},
   "outputs": [
    {
     "data": {
      "text/plain": [
       "{1, 3, 4}"
      ]
     },
     "execution_count": 34,
     "metadata": {},
     "output_type": "execute_result"
    }
   ],
   "source": [
    "visited"
   ]
  },
  {
   "cell_type": "code",
   "execution_count": null,
   "id": "cosmetic-scroll",
   "metadata": {},
   "outputs": [],
   "source": []
  },
  {
   "cell_type": "code",
   "execution_count": null,
   "id": "published-athletics",
   "metadata": {},
   "outputs": [],
   "source": []
  },
  {
   "cell_type": "code",
   "execution_count": 1,
   "id": "minute-german",
   "metadata": {},
   "outputs": [
    {
     "name": "stdout",
     "output_type": "stream",
     "text": [
      "4 5 1\n",
      "1 2\n",
      "1 3\n",
      "1 4\n",
      "2 4\n",
      "3 4\n"
     ]
    }
   ],
   "source": [
    "from collections import defaultdict\n",
    "graph_dict = defaultdict(list)\n",
    "v, e, s = map(int,input().split())\n",
    "for _ in range(e):\n",
    "    src, dst = map(int,input().split())\n",
    "    graph_dict[src].append(dst)\n",
    "    graph_dict[dst].append(src)"
   ]
  },
  {
   "cell_type": "code",
   "execution_count": 2,
   "id": "informational-timer",
   "metadata": {},
   "outputs": [
    {
     "data": {
      "text/plain": [
       "defaultdict(list, {1: [2, 3, 4], 2: [1, 4], 3: [1, 4], 4: [1, 2, 3]})"
      ]
     },
     "execution_count": 2,
     "metadata": {},
     "output_type": "execute_result"
    }
   ],
   "source": [
    "graph_dict"
   ]
  },
  {
   "cell_type": "code",
   "execution_count": 24,
   "id": "wicked-award",
   "metadata": {},
   "outputs": [],
   "source": [
    "\n",
    "def dfs(graph,s,visited = []):\n",
    "    visited.append(s)\n",
    "#     print(visited)\n",
    "    if len(graph) == len(visited):\n",
    "        return visited\n",
    "    for nxt in graph[s]:\n",
    "        if nxt not in visited:\n",
    "            return dfs(graph,nxt,visited)\n",
    "    "
   ]
  },
  {
   "cell_type": "code",
   "execution_count": 25,
   "id": "owned-henry",
   "metadata": {},
   "outputs": [
    {
     "name": "stdout",
     "output_type": "stream",
     "text": [
      "1 2 4 3\n"
     ]
    }
   ],
   "source": [
    "print(*dfs(graph_dict,s))"
   ]
  },
  {
   "cell_type": "code",
   "execution_count": 21,
   "id": "numeric-colorado",
   "metadata": {},
   "outputs": [],
   "source": [
    "from collections import deque\n",
    "def bfs(graph,s,visited = set()):\n",
    "    que = deque()\n",
    "    que.append(s)\n",
    "    seq = []\n",
    "    \n",
    "    while que:\n",
    "        cur = que.popleft()\n",
    "        if cur in visited:\n",
    "            continue\n",
    "        visited.add(cur)\n",
    "        seq.append(cur)\n",
    "        \n",
    "        for nxt in graph[cur]:\n",
    "            que.append(nxt)\n",
    "    \n",
    "    return seq\n",
    "    \n"
   ]
  },
  {
   "cell_type": "code",
   "execution_count": 22,
   "id": "seasonal-greensboro",
   "metadata": {},
   "outputs": [
    {
     "name": "stdout",
     "output_type": "stream",
     "text": [
      "1 2 3 4\n"
     ]
    }
   ],
   "source": [
    "print(*bfs(graph_dict,s))"
   ]
  },
  {
   "cell_type": "code",
   "execution_count": 8,
   "id": "several-hunter",
   "metadata": {},
   "outputs": [
    {
     "name": "stdout",
     "output_type": "stream",
     "text": [
      "1 1 1\n",
      "1 1\n",
      "1\n",
      "1\n"
     ]
    }
   ],
   "source": [
    "from collections import defaultdict,deque\n",
    "graph_dict = defaultdict(list)\n",
    "v, e, s = map(int,input().split())\n",
    "for _ in range(e):\n",
    "    src, dst = map(int,input().split())\n",
    "    graph_dict[src].append(dst)\n",
    "    graph_dict[dst].append(src)\n",
    "\n",
    "for v in graph_dict:\n",
    "    graph_dict[v].sort()\n",
    "\n",
    "\n",
    "def dfs(graph,s,visited1 = []):\n",
    "    visited1.append(s)\n",
    "#     print(visited)\n",
    "    if len(graph) == len(visited1):\n",
    "        return visited1\n",
    "    for nxt in graph[s]:\n",
    "        if nxt not in visited1:\n",
    "            return dfs(graph,nxt,visited1)\n",
    "\n",
    "print(*dfs(graph_dict,s))\n",
    "\n",
    "def bfs(graph,s,visited2 = set()):\n",
    "    que = deque()\n",
    "    que.append(s)\n",
    "    seq = []\n",
    "    while que:\n",
    "        cur = que.popleft()\n",
    "        if cur in visited2:\n",
    "            continue\n",
    "        visited2.add(cur)\n",
    "        seq.append(cur)\n",
    "        for nxt in graph[cur]:\n",
    "            que.append(nxt)\n",
    "    \n",
    "    return seq\n",
    "\n",
    "print(*bfs(graph_dict,s))"
   ]
  },
  {
   "cell_type": "code",
   "execution_count": 2,
   "id": "challenging-irrigation",
   "metadata": {},
   "outputs": [
    {
     "data": {
      "text/plain": [
       "defaultdict(list, {5: [4, 2], 4: [5, 3], 2: [5, 1], 1: [2, 3], 3: [4, 1]})"
      ]
     },
     "execution_count": 2,
     "metadata": {},
     "output_type": "execute_result"
    }
   ],
   "source": [
    "graph_dict"
   ]
  },
  {
   "cell_type": "code",
   "execution_count": 3,
   "id": "boring-proof",
   "metadata": {},
   "outputs": [
    {
     "ename": "AttributeError",
     "evalue": "'collections.defaultdict' object has no attribute 'sort'",
     "output_type": "error",
     "traceback": [
      "\u001b[1;31m---------------------------------------------------------------------------\u001b[0m",
      "\u001b[1;31mAttributeError\u001b[0m                            Traceback (most recent call last)",
      "\u001b[1;32m<ipython-input-3-eaf49c6d1669>\u001b[0m in \u001b[0;36m<module>\u001b[1;34m\u001b[0m\n\u001b[1;32m----> 1\u001b[1;33m \u001b[0mgraph_dict\u001b[0m\u001b[1;33m.\u001b[0m\u001b[0msort\u001b[0m\u001b[1;33m(\u001b[0m\u001b[1;33m)\u001b[0m\u001b[1;33m\u001b[0m\u001b[1;33m\u001b[0m\u001b[0m\n\u001b[0m",
      "\u001b[1;31mAttributeError\u001b[0m: 'collections.defaultdict' object has no attribute 'sort'"
     ]
    }
   ],
   "source": [
    "graph_dict.sort()"
   ]
  },
  {
   "cell_type": "code",
   "execution_count": 7,
   "id": "difficult-pharmacology",
   "metadata": {},
   "outputs": [
    {
     "ename": "TypeError",
     "evalue": "print() argument after * must be an iterable, not NoneType",
     "output_type": "error",
     "traceback": [
      "\u001b[1;31m---------------------------------------------------------------------------\u001b[0m",
      "\u001b[1;31mTypeError\u001b[0m                                 Traceback (most recent call last)",
      "\u001b[1;32m<ipython-input-7-22f59a1ad922>\u001b[0m in \u001b[0;36m<module>\u001b[1;34m\u001b[0m\n\u001b[1;32m----> 1\u001b[1;33m \u001b[0mprint\u001b[0m\u001b[1;33m(\u001b[0m\u001b[1;33m*\u001b[0m\u001b[1;32mNone\u001b[0m\u001b[1;33m)\u001b[0m\u001b[1;33m\u001b[0m\u001b[1;33m\u001b[0m\u001b[0m\n\u001b[0m",
      "\u001b[1;31mTypeError\u001b[0m: print() argument after * must be an iterable, not NoneType"
     ]
    }
   ],
   "source": [
    "print(*None)"
   ]
  },
  {
   "cell_type": "code",
   "execution_count": 16,
   "id": "innocent-yield",
   "metadata": {},
   "outputs": [
    {
     "name": "stdout",
     "output_type": "stream",
     "text": [
      "5 5 3\n",
      "5 4\n",
      "5 2\n",
      "1 2\n",
      "3 4\n",
      "3 1\n",
      "3 1 2 5 4\n",
      "3 1 4 2 5\n"
     ]
    }
   ],
   "source": [
    "from collections import defaultdict,deque\n",
    "graph_dict = defaultdict(list)\n",
    "v, e, s = map(int,input().split())\n",
    "for _ in range(e):\n",
    "    src, dst = map(int,input().split())\n",
    "    graph_dict[src].append(dst)\n",
    "    graph_dict[dst].append(src)\n",
    "\n",
    "for v in graph_dict:\n",
    "    graph_dict[v].sort()\n",
    "\n",
    "\n",
    "def dfs(graph,s,visited1 = []):\n",
    "    visited1.append(s)\n",
    "#     print(visited)\n",
    "    if len(graph) == len(visited1):\n",
    "        return visited1\n",
    "    for nxt in graph[s]:\n",
    "        if nxt not in visited1:\n",
    "            return dfs(graph,nxt,visited1)\n",
    "\n",
    "# print(*dfs(graph_dict,s))\n",
    "dfs_ans = dfs(graph_dict,s)\n",
    "\n",
    "\n",
    "def bfs(graph,s,visited2 = set()):\n",
    "    que = deque()\n",
    "    que.append(s)\n",
    "    seq = []\n",
    "    while que:\n",
    "        cur = que.popleft()\n",
    "        if cur in visited2:\n",
    "            continue\n",
    "        visited2.add(cur)\n",
    "        seq.append(cur)\n",
    "        for nxt in graph[cur]:\n",
    "            que.append(nxt)\n",
    "    \n",
    "    return seq\n",
    "\n",
    "# print(*bfs(graph_dict,s))\n",
    "bfs_ans = bfs(graph_dict,s)\n",
    "\n",
    "# print(' '.join(dfs_ans))\n",
    "# print(' '.join(bfs_ans))\n",
    "\n",
    "print(*dfs_ans)\n",
    "print(*bfs_ans)\n"
   ]
  },
  {
   "cell_type": "code",
   "execution_count": 15,
   "id": "creative-physics",
   "metadata": {},
   "outputs": [
    {
     "name": "stdout",
     "output_type": "stream",
     "text": [
      "3 1 2 5 4\n"
     ]
    }
   ],
   "source": [
    "print(*dfs_ans)"
   ]
  },
  {
   "cell_type": "code",
   "execution_count": 11,
   "id": "labeled-juice",
   "metadata": {},
   "outputs": [
    {
     "data": {
      "text/plain": [
       "[3, 1, 4, 2, 5]"
      ]
     },
     "execution_count": 11,
     "metadata": {},
     "output_type": "execute_result"
    }
   ],
   "source": [
    "bfs_ans"
   ]
  },
  {
   "cell_type": "code",
   "execution_count": null,
   "id": "latter-active",
   "metadata": {},
   "outputs": [],
   "source": []
  }
 ],
 "metadata": {
  "kernelspec": {
   "display_name": "Python 3",
   "language": "python",
   "name": "python3"
  },
  "language_info": {
   "codemirror_mode": {
    "name": "ipython",
    "version": 3
   },
   "file_extension": ".py",
   "mimetype": "text/x-python",
   "name": "python",
   "nbconvert_exporter": "python",
   "pygments_lexer": "ipython3",
   "version": "3.8.5"
  }
 },
 "nbformat": 4,
 "nbformat_minor": 5
}
