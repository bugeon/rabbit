{
 "cells": [
  {
   "cell_type": "code",
   "execution_count": 1,
   "id": "flexible-twenty",
   "metadata": {},
   "outputs": [],
   "source": [
    "tc = [3,1,6,4,5,2]\n",
    "\n"
   ]
  },
  {
   "cell_type": "code",
   "execution_count": 2,
   "id": "fitted-facial",
   "metadata": {},
   "outputs": [
    {
     "data": {
      "text/plain": [
       "[1]"
      ]
     },
     "execution_count": 2,
     "metadata": {},
     "output_type": "execute_result"
    }
   ],
   "source": [
    "[1][-1:1]"
   ]
  },
  {
   "cell_type": "code",
   "execution_count": 12,
   "id": "cutting-opinion",
   "metadata": {},
   "outputs": [],
   "source": [
    "def dnc(tc):\n",
    "    if len(tc) == 0:\n",
    "        return (0, 0)\n",
    "    if len(tc) == 1:\n",
    "        return (tc[0], tc[0])\n",
    "    \n",
    "    l2 = int(len(tc)/2)\n",
    "    t1 = tc[:l2]\n",
    "    t2 = tc[l2:]\n",
    "    candsum, candmin = sum(tc[l2-1:l2+1]),min(tc[l2-1:l2+1])\n",
    "    \n",
    "    if len(tc) > 3 and tc[l2+1] > tc[l2-2]:\n",
    "        for idx in range(1,l2):\n",
    "            tsum = sum(tc[l2-1:l2+1+idx])\n",
    "            tmin = min(tc[l2-1:l2+1+idx])\n",
    "            if candsum*candmin < tsum * tmin:\n",
    "                candsum, candmin = tsum, tmin\n",
    "        for idx in range(1,l2):\n",
    "            tsum = sum(tc[l2-1-idx:])\n",
    "            tmin = min(tc[l2-1-idx:])\n",
    "            if candsum*candmin < tsum * tmin:\n",
    "                candsum, candmin = tsum, tmin\n",
    "            \n",
    "    else:\n",
    "        for idx in range(1,l2):\n",
    "            tsum = sum(tc[l2-1-idx:l2+1])\n",
    "            tmin = min(tc[l2-1-idx:l2+1])\n",
    "            if candsum*candmin < tsum * tmin:\n",
    "                candsum, candmin = tsum, tmin\n",
    "        for idx in range(1,l2+1):\n",
    "            tsum = sum(tc[:l2+1+idx])\n",
    "            tmin = min(tc[:l2+1+idx])\n",
    "            if candsum*candmin < tsum * tmin:\n",
    "                candsum, candmin = tsum, tmin\n",
    "    \n",
    "    answer = max(dnc(t1),dnc(t2), (candsum,candmin), key = lambda x: x[0]*x[1])\n",
    "#     print(t1,t2,answer)\n",
    "    return answer"
   ]
  },
  {
   "cell_type": "code",
   "execution_count": 1,
   "id": "underlying-parking",
   "metadata": {},
   "outputs": [
    {
     "ename": "SyntaxError",
     "evalue": "invalid syntax (<ipython-input-1-85b41d32c761>, line 14)",
     "output_type": "error",
     "traceback": [
      "\u001b[1;36m  File \u001b[1;32m\"<ipython-input-1-85b41d32c761>\"\u001b[1;36m, line \u001b[1;32m14\u001b[0m\n\u001b[1;33m    if len(tc) > 4 and tc[l2+2] > tc[l2-1] or :\u001b[0m\n\u001b[1;37m                                              ^\u001b[0m\n\u001b[1;31mSyntaxError\u001b[0m\u001b[1;31m:\u001b[0m invalid syntax\n"
     ]
    }
   ],
   "source": [
    "def dnc(tc):\n",
    "    if len(tc) == 0:\n",
    "        return (0, 0)\n",
    "    if len(tc) == 1:\n",
    "        return (tc[0], tc[0])\n",
    "#     if len(tc) == 2:\n",
    "#         return (sum(tc), min(tc))\n",
    "    \n",
    "    l2 = int(len(tc)/2)\n",
    "    t1 = tc[:l2]\n",
    "    t2 = tc[l2:]\n",
    "    candsum, candmin = sum(tc[l2:l2+2]),min(tc[l2:l2+2])\n",
    "    \n",
    "    if len(tc) > 4 and tc[l2+2] > tc[l2-1] or :\n",
    "        for idx in range(1,l2):\n",
    "            tsum = sum(tc[l2:l2+2+idx])\n",
    "            tmin = min(tc[l2:l2+2+idx])\n",
    "            if candsum*candmin < tsum * tmin:\n",
    "                candsum, candmin = tsum, tmin\n",
    "        for idx in range(1,l2+1):\n",
    "            tsum = sum(tc[l2-idx:])\n",
    "            tmin = min(tc[l2-idx:])\n",
    "            if candsum*candmin < tsum * tmin:\n",
    "                candsum, candmin = tsum, tmin\n",
    "            \n",
    "    else:\n",
    "        for idx in range(1,l2+1):\n",
    "            tsum = sum(tc[l2-idx:l2+2])\n",
    "            tmin = min(tc[l2-idx:l2+2])\n",
    "            if candsum*candmin < tsum * tmin:\n",
    "                candsum, candmin = tsum, tmin\n",
    "        for idx in range(1,l2+1):\n",
    "            tsum = sum(tc[:l2+1+idx])\n",
    "            tmin = min(tc[:l2+1+idx])\n",
    "            if candsum*candmin < tsum * tmin:\n",
    "                candsum, candmin = tsum, tmin\n",
    "    \n",
    "    answer = max(dnc(t1),dnc(t2), (candsum,candmin), key = lambda x: x[0]*x[1])\n",
    "#     print(t1,t2,answer)\n",
    "    return answer\n",
    "\n",
    "input()\n",
    "tc = list(map(int, input().split()))\n",
    "ans = dnc(tc)\n",
    "print(ans[0]*ans[1])"
   ]
  },
  {
   "cell_type": "code",
   "execution_count": 19,
   "id": "intensive-introduction",
   "metadata": {},
   "outputs": [
    {
     "data": {
      "text/plain": [
       "[1, 2, 3]"
      ]
     },
     "execution_count": 19,
     "metadata": {},
     "output_type": "execute_result"
    }
   ],
   "source": [
    "[1,2,3][:4]"
   ]
  }
 ],
 "metadata": {
  "kernelspec": {
   "display_name": "Python 3",
   "language": "python",
   "name": "python3"
  },
  "language_info": {
   "codemirror_mode": {
    "name": "ipython",
    "version": 3
   },
   "file_extension": ".py",
   "mimetype": "text/x-python",
   "name": "python",
   "nbconvert_exporter": "python",
   "pygments_lexer": "ipython3",
   "version": "3.8.5"
  }
 },
 "nbformat": 4,
 "nbformat_minor": 5
}
