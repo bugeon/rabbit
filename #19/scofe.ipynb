{
 "cells": [
  {
   "cell_type": "markdown",
   "metadata": {},
   "source": [
    "# 2"
   ]
  },
  {
   "cell_type": "code",
   "execution_count": 26,
   "metadata": {},
   "outputs": [],
   "source": [
    "test = '1101'"
   ]
  },
  {
   "cell_type": "code",
   "execution_count": 32,
   "metadata": {},
   "outputs": [],
   "source": [
    "cnt = 0\n",
    "move = [1,2]\n",
    "n = len(test)\n",
    "def bfs(start,move,n):\n",
    "    global cnt, test\n",
    "    cur = start\n",
    "    print(f'cur : {cur}')\n",
    "    if cur == n-1:\n",
    "        cnt += 1\n",
    "    else:\n",
    "        for m in move:\n",
    "            if cur+m<n and test[cur+m] == '1':\n",
    "                print(f'next : {cur+m}, {test[cur+m]}')\n",
    "                bfs(cur+m,move,n)\n",
    "                "
   ]
  },
  {
   "cell_type": "code",
   "execution_count": 33,
   "metadata": {},
   "outputs": [
    {
     "name": "stdout",
     "output_type": "stream",
     "text": [
      "cur : 0\n",
      "next : 1, 1\n",
      "cur : 1\n",
      "next : 3, 1\n",
      "cur : 3\n"
     ]
    }
   ],
   "source": [
    "bfs(0,move,n)"
   ]
  },
  {
   "cell_type": "code",
   "execution_count": 34,
   "metadata": {},
   "outputs": [
    {
     "data": {
      "text/plain": [
       "1"
      ]
     },
     "execution_count": 34,
     "metadata": {},
     "output_type": "execute_result"
    }
   ],
   "source": [
    "cnt"
   ]
  },
  {
   "cell_type": "code",
   "execution_count": 152,
   "metadata": {},
   "outputs": [
    {
     "name": "stdout",
     "output_type": "stream",
     "text": [
      "30\n",
      "111010110101111010101111010101\n",
      "18\n"
     ]
    }
   ],
   "source": [
    "n = int(input())\n",
    "test = input()\n",
    "cnt = 0\n",
    "move = [1,2]\n",
    "def bfs(start,move,n,test):\n",
    "    global cnt\n",
    "    cur = start\n",
    "    if cur == n-1:\n",
    "        cnt += 1\n",
    "    else:\n",
    "        for m in move:\n",
    "            if cur+m<n and test[cur+m] == '1':\n",
    "                bfs(cur+m,move,n,test)\n",
    "bfs(0,move,n,test)\n",
    "\n",
    "print(cnt)"
   ]
  },
  {
   "cell_type": "code",
   "execution_count": 163,
   "metadata": {},
   "outputs": [
    {
     "name": "stdout",
     "output_type": "stream",
     "text": [
      "30\n",
      "111010110101111010101111010101\n",
      "18\n"
     ]
    }
   ],
   "source": [
    "from functools import reduce\n",
    "\n",
    "def dp(mat,n):\n",
    "    for idx in range(2,n):\n",
    "        mat.append(mat[-1]+mat[-2])\n",
    "        \n",
    "n = int(input())\n",
    "lorder = list(map(len,input().split('0')))\n",
    "\n",
    "mat = [None,1,1]\n",
    "mlen = max(lorder)\n",
    "\n",
    "dp(mat,mlen)\n",
    "\n",
    "print(reduce(lambda x,y : x*y ,map(lambda x : mat[x], lorder)))"
   ]
  },
  {
   "cell_type": "code",
   "execution_count": 162,
   "metadata": {},
   "outputs": [
    {
     "name": "stdout",
     "output_type": "stream",
     "text": [
      "18\n"
     ]
    }
   ],
   "source": [
    "print(reduce(lambda x,y : x*y ,map(lambda x : mat[x], lorder)))"
   ]
  },
  {
   "cell_type": "code",
   "execution_count": 156,
   "metadata": {},
   "outputs": [
    {
     "data": {
      "text/plain": [
       "[1, 1, 2, 3]"
      ]
     },
     "execution_count": 156,
     "metadata": {},
     "output_type": "execute_result"
    }
   ],
   "source": [
    "mat"
   ]
  },
  {
   "cell_type": "code",
   "execution_count": 76,
   "metadata": {},
   "outputs": [
    {
     "name": "stdout",
     "output_type": "stream",
     "text": [
      "4\n",
      "1110\n",
      "1110\n",
      "0110\n",
      "0000\n",
      "total: 11\n",
      "size[1]: 8\n",
      "size[2]: 3\n"
     ]
    }
   ],
   "source": [
    "def check(mapp, size, y,x,n):\n",
    "    chk = True\n",
    "    for idx1 in range(size):\n",
    "        if idx1+y >= n: return False\n",
    "        for idx2 in range(size):\n",
    "            if idx2 + x >= n: return False\n",
    "            if mapp[y+idx1][x+idx2] == '0':\n",
    "                return False\n",
    "    if chk:\n",
    "        return True\n",
    "    \n",
    "n = int(input())\n",
    "mapp = []\n",
    "for _ in range(n):\n",
    "    mapp.append([i for i in input()])\n",
    "\n",
    "size_sum = [0]*(n+1)\n",
    "for size in range(1,n+1):\n",
    "    for y in range(n):\n",
    "        for x in range(n):\n",
    "            size_sum[size] += check(mapp,size,y,x,n)\n",
    "            \n",
    "print(f'total: {sum(size_sum)}')\n",
    "for e, ans in enumerate(size_sum):\n",
    "    if ans != 0:\n",
    "        print(f'size[{e}]: {ans}')\n"
   ]
  },
  {
   "cell_type": "code",
   "execution_count": 41,
   "metadata": {},
   "outputs": [
    {
     "data": {
      "text/plain": [
       "[['1', '1', '1', '0'],\n",
       " ['1', '1', '1', '0'],\n",
       " ['0', '1', '1', '0'],\n",
       " ['0', '0', '0', '0']]"
      ]
     },
     "execution_count": 41,
     "metadata": {},
     "output_type": "execute_result"
    }
   ],
   "source": [
    "mapp\n"
   ]
  },
  {
   "cell_type": "code",
   "execution_count": 66,
   "metadata": {},
   "outputs": [],
   "source": [
    "size_sum = [0]*(n+1)\n",
    "for size in range(1,n+1):\n",
    "    for y in range(n):\n",
    "        for x in range(n):\n",
    "            size_sum[size] += check(mapp,size,y,x,n)\n",
    "            \n"
   ]
  },
  {
   "cell_type": "code",
   "execution_count": 75,
   "metadata": {},
   "outputs": [
    {
     "name": "stdout",
     "output_type": "stream",
     "text": [
      "total: 11\n",
      "size[1]: 8\n",
      "size[2]: 3\n"
     ]
    }
   ],
   "source": [
    "size_sum\n",
    "print(f'total: {sum(size_sum)}')\n",
    "for e, ans in enumerate(size_sum):\n",
    "      \n",
    "    if ans != 0:\n",
    "        print(f'size[{e}]: {ans}')\n",
    "      \n",
    "    "
   ]
  },
  {
   "cell_type": "code",
   "execution_count": 61,
   "metadata": {},
   "outputs": [],
   "source": [
    "def check(mapp, size, y,x,n):\n",
    "    chk = True\n",
    "    for idx1 in range(size):\n",
    "        if idx1+y >= n: return False\n",
    "        for idx2 in range(size):\n",
    "            if idx2 + x >= n: return False\n",
    "            if mapp[y+idx1][x+idx2] == '0':\n",
    "                return False\n",
    "    if chk:\n",
    "        return True"
   ]
  },
  {
   "cell_type": "code",
   "execution_count": 60,
   "metadata": {},
   "outputs": [
    {
     "name": "stdout",
     "output_type": "stream",
     "text": [
      "0\n"
     ]
    },
    {
     "data": {
      "text/plain": [
       "False"
      ]
     },
     "execution_count": 60,
     "metadata": {},
     "output_type": "execute_result"
    }
   ],
   "source": [
    "check(mapp,3,1,0,n)"
   ]
  },
  {
   "cell_type": "markdown",
   "metadata": {},
   "source": [
    "# 6\n"
   ]
  },
  {
   "cell_type": "code",
   "execution_count": 77,
   "metadata": {},
   "outputs": [
    {
     "name": "stdout",
     "output_type": "stream",
     "text": [
      "3 5\n",
      "3 4 5\n",
      "2 3 9\n",
      "3 9 3\n",
      "4 5 1\n",
      "1 3 6\n"
     ]
    }
   ],
   "source": [
    "n,m = map(int,input().split())\n",
    "mapp = [list(map(int,input().split())) for _ in range(m)]\n",
    "\n"
   ]
  },
  {
   "cell_type": "code",
   "execution_count": 79,
   "metadata": {},
   "outputs": [],
   "source": [
    "mapp\n",
    "move = [(0,1),(1,0)]\n",
    "cnt = mapp[0][0]\n",
    "cnt_list = []\n",
    "def bfs(y,x,mapp,move,cnt,n,m):\n",
    "    if y == m-1 and x == n-1 :\n",
    "        cnt_list.append(cnt)\n",
    "    for mv in move:\n",
    "        n_y = y + mv[0]\n",
    "        n_x = x + mv[1]\n",
    "        if n_y<m and n_x<n:\n",
    "            bfs(n_y,n_x,mapp,move,cnt+mapp[n_y][n_x],n,m)"
   ]
  },
  {
   "cell_type": "code",
   "execution_count": 80,
   "metadata": {},
   "outputs": [],
   "source": [
    "bfs(0,0,mapp,move,cnt,n,m)"
   ]
  },
  {
   "cell_type": "code",
   "execution_count": 82,
   "metadata": {},
   "outputs": [
    {
     "data": {
      "text/plain": [
       "33"
      ]
     },
     "execution_count": 82,
     "metadata": {},
     "output_type": "execute_result"
    }
   ],
   "source": [
    "max(cnt_list)\n",
    "\n"
   ]
  },
  {
   "cell_type": "code",
   "execution_count": null,
   "metadata": {},
   "outputs": [],
   "source": [
    "n,m = map(int,input().split())\n",
    "mapp = [list(map(int,input().split())) for _ in range(m)]\n",
    "max_map = [[0]*n for _ in range(m)]\n",
    "\n",
    "max_map[0][0] = mapp[0][0]\n",
    "\n",
    "for idx in range(1, n):\n",
    "    max_map[0][idx] = mapp[0][idx] + max_map[0][idx - 1]\n",
    "for idx in range(1, m):\n",
    "    max_map[idx][0] = mapp[idx][0] + max_map[idx - 1][0]\n",
    "\n",
    "for idx1 in range(1, m):\n",
    "    for idx2 in range(1, n):\n",
    "        max_map[idx1][idx2] = mapp[idx1][idx2] + max(max_map[idx1 - 1][idx2], max_map[idx1][idx2 - 1])\n",
    "        \n",
    "print(max_map[m - 1][n - 1])"
   ]
  },
  {
   "cell_type": "code",
   "execution_count": null,
   "metadata": {},
   "outputs": [],
   "source": [
    "import sys\t\n",
    "\t\n",
    "n, m = map(int, sys.stdin.readline().split())\n",
    "\n",
    "space_info = [list(map(int, sys.stdin.readline().split())) for _ in range(m)]\n",
    "max_cloth = [[0] * n for _ in range(m)]\n",
    "max_cloth[0][0] = space_info[0][0]\n",
    "for i in range(1, n):\n",
    "\tmax_cloth[0][i] = space_info[0][i] + max_cloth[0][i - 1]\n",
    "for i in range(1, m):\n",
    "\tmax_cloth[i][0] = space_info[i][0] + max_cloth[i - 1][0]\n",
    "\n",
    "for i in range(1, m):\n",
    "\tfor j in range(1, n):\n",
    "\t\tmax_cloth[i][j] = space_info[i][j] + max(max_cloth[i - 1][j], max_cloth[i][j - 1])\n",
    "\t\n",
    "print(max_cloth[m - 1][n - 1])"
   ]
  },
  {
   "cell_type": "markdown",
   "metadata": {},
   "source": [
    "# 5"
   ]
  },
  {
   "cell_type": "code",
   "execution_count": 164,
   "metadata": {},
   "outputs": [
    {
     "name": "stdout",
     "output_type": "stream",
     "text": [
      "3 3\n",
      ".c.\n",
      ".x.\n",
      "x..\n"
     ]
    }
   ],
   "source": [
    "n,m = map(int,input().split())\n",
    "mapp = [input() for _ in range(m)]\n",
    "c = [e for e,i in enumerate(mapp[0]) if i == 'c']\n",
    "    "
   ]
  },
  {
   "cell_type": "code",
   "execution_count": 166,
   "metadata": {},
   "outputs": [
    {
     "name": "stdout",
     "output_type": "stream",
     "text": [
      "(0, 2)\n",
      "(1, 2)\n",
      "(2, 2)\n",
      "(0, 0)\n",
      "(1, 0)\n"
     ]
    }
   ],
   "source": [
    "move = [(1,0),(0,1),(0,-1)]#하 우 좌\n",
    "cand = set()\n",
    "\n",
    "for cc in c:\n",
    "    vis = set()\n",
    "\n",
    "    bfs(mapp,move,cc)"
   ]
  },
  {
   "cell_type": "code",
   "execution_count": 165,
   "metadata": {},
   "outputs": [],
   "source": [
    "\n",
    "def bfs(mapp,move,x,y=0,cnt=0):\n",
    "    global cand,vis\n",
    "    vis.add((y,x))\n",
    "    if y == m-1:\n",
    "        cand.add(cnt)\n",
    "        return\n",
    "#         return cnt\n",
    "    for e,mv in enumerate(move):\n",
    "        nx = x + mv[1]\n",
    "        ny = y + mv[0]\n",
    "        if 0<=nx<n and 0<=ny<m and mapp[ny][nx] == '.' and (ny,nx) not in vis:\n",
    "            print((ny,nx))\n",
    "            if e == 0:\n",
    "                bfs(mapp,move,nx,ny,cnt)\n",
    "            else:\n",
    "                bfs(mapp,move,nx,ny,cnt+1)"
   ]
  },
  {
   "cell_type": "code",
   "execution_count": 167,
   "metadata": {},
   "outputs": [
    {
     "name": "stdout",
     "output_type": "stream",
     "text": [
      "1\n"
     ]
    }
   ],
   "source": [
    "print(min(cand))\n"
   ]
  },
  {
   "cell_type": "code",
   "execution_count": 174,
   "metadata": {},
   "outputs": [
    {
     "name": "stdout",
     "output_type": "stream",
     "text": [
      "5 6\n",
      "c.c.c\n",
      "xx...\n",
      "xxx.x\n",
      "x...x\n",
      "..xxx\n",
      ".....\n",
      "3\n"
     ]
    }
   ],
   "source": [
    "\n",
    "def bfs(mapp,move,x,y=0,cnt=0):\n",
    "    global cand,vis\n",
    "    vis.add((y,x))\n",
    "    if y == m-1:\n",
    "        cand.add(cnt)\n",
    "        return\n",
    "    for e,mv in enumerate(move):\n",
    "        nx = x + mv[1]\n",
    "        ny = y + mv[0]\n",
    "        if 0<=nx<n and 0<=ny<m and mapp[ny][nx] == '.' and (ny,nx) not in vis:\n",
    "            if e == 0:\n",
    "                bfs(mapp,move,nx,ny,cnt)\n",
    "            else:\n",
    "                bfs(mapp,move,nx,ny,cnt+1)\n",
    "\n",
    "n,m = map(int,input().split())\n",
    "mapp = [input() for _ in range(m)]\n",
    "c = [e for e,i in enumerate(mapp[0]) if i == 'c']\n",
    "move = [(1,0),(0,1),(0,-1)]#하 우 좌\n",
    "cand = set()\n",
    "\n",
    "for cc in c:\n",
    "    vis = set()\n",
    "\n",
    "    bfs(mapp,move,cc)\n",
    "    \n",
    "print(min(cand) if len(cand) != 0 else -1)\n"
   ]
  },
  {
   "cell_type": "code",
   "execution_count": 175,
   "metadata": {},
   "outputs": [
    {
     "name": "stdout",
     "output_type": "stream",
     "text": [
      "5 6\n",
      "c....\n",
      "xxxx.\n",
      ".x...\n",
      "...xx\n",
      "..xxx\n",
      "x....\n",
      "7\n"
     ]
    }
   ],
   "source": [
    "\n",
    "def dfs(mapp,move,vis,x,y=0,cnt=0):\n",
    "    global cand,m,n\n",
    "    vis.add((y,x))\n",
    "    if y == m-1:\n",
    "        cand.add(cnt)\n",
    "        return\n",
    "    for e,mv in enumerate(move):\n",
    "        nx = x + mv[1]\n",
    "        ny = y + mv[0]\n",
    "        if 0<=nx<n and 0<=ny<m and mapp[ny][nx] == '.' and (ny,nx) not in vis:\n",
    "            if e == 0:\n",
    "                dfs(mapp,move,vis,nx,ny,cnt)\n",
    "            else:\n",
    "                dfs(mapp,move,vis,nx,ny,cnt+1)\n",
    "\n",
    "n,m = map(int,input().split())\n",
    "mapp = [input() for _ in range(m)]\n",
    "c = [e for e,i in enumerate(mapp[0]) if i == 'c']\n",
    "move = [(1,0),(0,1),(0,-1)]#하 우 좌\n",
    "cand = set()\n",
    "\n",
    "for cc in c:\n",
    "    vis = set()\n",
    "    dfs(mapp,move,vis,cc)\n",
    "\n",
    "print(min(cand) if len(cand) != 0 else -1)\n"
   ]
  },
  {
   "cell_type": "code",
   "execution_count": 148,
   "metadata": {},
   "outputs": [
    {
     "data": {
      "text/plain": [
       "{1, 2, 3}"
      ]
     },
     "execution_count": 148,
     "metadata": {},
     "output_type": "execute_result"
    }
   ],
   "source": [
    "cand"
   ]
  },
  {
   "cell_type": "markdown",
   "metadata": {},
   "source": [
    "# 4\n"
   ]
  },
  {
   "cell_type": "code",
   "execution_count": 108,
   "metadata": {},
   "outputs": [
    {
     "name": "stdout",
     "output_type": "stream",
     "text": [
      "4.0 3.0 2.1 4.3 5.0\n",
      "2 3\n",
      "WYO\n",
      "YYO\n",
      "ABC\n",
      "DCE\n"
     ]
    }
   ],
   "source": [
    "w_dict = {}\n",
    "for x1, x2 in zip(list(\"ABCDE\"),map(float,input().split())):\n",
    "    w_dict[x1] = x2\n",
    "n,m = map(int, input().split())\n",
    "mapp = [input() for _ in range(n)]\n",
    "mapc = [input() for _ in range(n)]"
   ]
  },
  {
   "cell_type": "code",
   "execution_count": 109,
   "metadata": {},
   "outputs": [
    {
     "name": "stdout",
     "output_type": "stream",
     "text": [
      "{'A': 4.0, 'B': 3.0, 'C': 2.1, 'D': 4.3, 'E': 5.0}\n",
      "2 3\n",
      "['WYO', 'YYO']\n",
      "['ABC', 'DCE']\n"
     ]
    }
   ],
   "source": [
    "print(w_dict)\n",
    "print(n,m)\n",
    "print(mapp)\n",
    "print(mapc)"
   ]
  },
  {
   "cell_type": "code",
   "execution_count": 136,
   "metadata": {},
   "outputs": [
    {
     "name": "stdout",
     "output_type": "stream",
     "text": [
      "[('B', 3.0, 0, 1), ('D', 4.3, 1, 0), ('C', 2.1, 1, 1)]\n",
      "[('C', 2.1, 0, 2), ('E', 5.0, 1, 2)]\n"
     ]
    }
   ],
   "source": [
    "y_list = []\n",
    "for idx1 in range(n):\n",
    "    for idx2, v in enumerate(mapp[idx1]):\n",
    "        if v == 'Y':\n",
    "            y_list.append((mapc[idx1][idx2],w_dict[mapc[idx1][idx2]],idx1,idx2))\n",
    "o_list = []\n",
    "for idx1 in range(n):\n",
    "    for idx2, v in enumerate(mapp[idx1]):\n",
    "        if v == 'O':\n",
    "            o_list.append((mapc[idx1][idx2],w_dict[mapc[idx1][idx2]],idx1,idx2))\n",
    "            \n",
    "print(y_list)\n",
    "print(o_list)"
   ]
  },
  {
   "cell_type": "code",
   "execution_count": 145,
   "metadata": {},
   "outputs": [],
   "source": [
    "s_y_list = sorted(y_list, key = lambda x: x[1],reverse = 1)\n",
    "s_o_list = sorted(o_list, key = lambda x: x[1],reverse = 1)"
   ]
  },
  {
   "cell_type": "code",
   "execution_count": 146,
   "metadata": {},
   "outputs": [
    {
     "name": "stdout",
     "output_type": "stream",
     "text": [
      "D 4.3 1 0\n",
      "B 3.0 0 1\n",
      "C 2.1 1 1\n",
      "E 5.0 1 2\n",
      "C 2.1 0 2\n"
     ]
    }
   ],
   "source": [
    "for a in s_y_list:\n",
    "    print(*a)\n",
    "for a in s_o_list:\n",
    "    print(*a)"
   ]
  },
  {
   "cell_type": "code",
   "execution_count": 147,
   "metadata": {},
   "outputs": [
    {
     "name": "stdout",
     "output_type": "stream",
     "text": [
      "4.0 3.0 2.1 4.3 5.0\n",
      "2 3\n",
      "WYO\n",
      "YYO\n",
      "ABC\n",
      "DCE\n",
      "D 4.3 1 0\n",
      "B 3.0 0 1\n",
      "C 2.1 1 1\n",
      "E 5.0 1 2\n",
      "C 2.1 0 2\n"
     ]
    }
   ],
   "source": [
    "w_dict = {}\n",
    "for x1, x2 in zip(list(\"ABCDE\"),map(float,input().split())):\n",
    "    w_dict[x1] = x2\n",
    "n,m = map(int, input().split())\n",
    "mapp = [input() for _ in range(n)]\n",
    "mapc = [input() for _ in range(n)]\n",
    "\n",
    "y_list = []\n",
    "for idx1 in range(n):\n",
    "    for idx2, v in enumerate(mapp[idx1]):\n",
    "        if v == 'Y':\n",
    "            y_list.append((mapc[idx1][idx2],w_dict[mapc[idx1][idx2]],idx1,idx2))\n",
    "o_list = []\n",
    "for idx1 in range(n):\n",
    "    for idx2, v in enumerate(mapp[idx1]):\n",
    "        if v == 'O':\n",
    "            o_list.append((mapc[idx1][idx2],w_dict[mapc[idx1][idx2]],idx1,idx2))\n",
    "            \n",
    "s_y_list = sorted(y_list, key = lambda x: x[1],reverse = 1)\n",
    "s_o_list = sorted(o_list, key = lambda x: x[1],reverse = 1)\n",
    "\n",
    "for a in s_y_list:\n",
    "    print(*a)\n",
    "for a in s_o_list:\n",
    "    print(*a)"
   ]
  },
  {
   "cell_type": "markdown",
   "metadata": {},
   "source": [
    "# 1\n"
   ]
  },
  {
   "cell_type": "code",
   "execution_count": null,
   "metadata": {},
   "outputs": [],
   "source": [
    "def c_time(hour):\n",
    "    h, m = '', ''\n",
    "    if hour // 100 == 0:\n",
    "        h = '00'\n",
    "    elif hour // 100 < 10:\n",
    "        h = '0' + str(hour // 100)\n",
    "    else:\n",
    "        h = str(hour // 100)\n",
    "    if hour % 100 == 0:\n",
    "        m = '00'\n",
    "    elif hour % 100 < 10:\n",
    "        m = '0' + str(hour %  100)\n",
    "    else:\n",
    "        m = str(hour % 100)\n",
    "    time = f'{h}:{m}'\n",
    "    return time\n",
    "\n",
    "answer = -1\n",
    "n = int(input())\n",
    "start = []\n",
    "end = []\n",
    "\n",
    "for _ in range(n):\n",
    "    time = input()\n",
    "    start.append(int(time[0:2] + time[3:5]))\n",
    "    end.append(int(time[8:10] + time[11:13]))\n",
    "sh = max(start)\n",
    "eh = min(end)\n",
    "if (sh <= eh):\n",
    "    st = c_time(sh)\n",
    "    et = c_time(eh)\n",
    "    answer = f'{st} ~ {et}'\n",
    "print(answer)"
   ]
  },
  {
   "cell_type": "code",
   "execution_count": null,
   "metadata": {},
   "outputs": [],
   "source": [
    "N, M = map(int, input().split())\n",
    "board=[]\n",
    "for i in range(M):\n",
    "    board.append(input())\n",
    "\n",
    "start = [(i,j) for i in range(M) for j in range(N) if board[i][j] == 'c']\n",
    "def bfs(N,M, board, start):\n",
    "    DELTAS = [[1,0],[0,1],[0,-1]]\n",
    "    visited=set()\n",
    "    visited.add(start)\n",
    "    routes=[[start, 0]]\n",
    "    while routes:\n",
    "        cur, move = routes.pop(0)\n",
    "        if cur[0] == M-1:\n",
    "            return move\n",
    "        for dy, dx in DELTAS:\n",
    "            nxt = cur[0]+dy, cur[1]+dx\n",
    "            if 0 <= nxt[0] < M and 0 <= nxt[1] < N and board[nxt[0]][nxt[1]] == '.' and nxt not in visited:\n",
    "                visited.add(nxt)\n",
    "                if nxt[1] != cur[1]:\n",
    "                    routes.append([nxt, move+1])\n",
    "                else:\n",
    "                    routes.append([nxt, move])\n",
    "    return -1\n",
    "                    \n",
    "flag =[]\n",
    "for s in start:\n",
    "    tmp = bfs(N, M, board, s)\n",
    "    flag.append(tmp)\n",
    "    \n",
    "if abs(sum(flag)) == len(start):\n",
    "    print(-1)\n",
    "else:\n",
    "    print(min([i for i in flag if i != -1]))"
   ]
  }
 ],
 "metadata": {
  "kernelspec": {
   "display_name": "Python 3",
   "language": "python",
   "name": "python3"
  },
  "language_info": {
   "codemirror_mode": {
    "name": "ipython",
    "version": 3
   },
   "file_extension": ".py",
   "mimetype": "text/x-python",
   "name": "python",
   "nbconvert_exporter": "python",
   "pygments_lexer": "ipython3",
   "version": "3.7.6"
  }
 },
 "nbformat": 4,
 "nbformat_minor": 4
}
